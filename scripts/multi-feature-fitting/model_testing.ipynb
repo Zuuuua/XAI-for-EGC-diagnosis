{
 "cells": [
  {
   "cell_type": "code",
   "execution_count": 5,
   "metadata": {
    "ExecuteTime": {
     "end_time": "2023-06-08T07:37:48.368759Z",
     "start_time": "2023-06-08T07:37:48.362775Z"
    },
    "collapsed": true
   },
   "outputs": [],
   "source": [
    "import numpy as np\n",
    "import os\n",
    "from sklearn import metrics\n",
    "import pandas as pd\n",
    "from sklearn.preprocessing import StandardScaler,MinMaxScaler\n",
    "import warnings\n",
    "warnings.filterwarnings(\"ignore\")  \n",
    "from tqdm import tqdm_notebook as tqdm\n",
    "import sys\n",
    "sys.path.insert(0, '../../trainer')\n",
    "from core.plot import Plot\n",
    "from sklearn.model_selection import GridSearchCV\n",
    "from sklearn.metrics import confusion_matrix\n",
    "import joblib\n",
    "import time"
   ]
  },
  {
   "cell_type": "code",
   "execution_count": null,
   "metadata": {
    "collapsed": true
   },
   "outputs": [],
   "source": [
    "ori_csv_path = r\"~\\feature_extracted.xlsx\"\n",
    "ai_csv_path = ori_csv_path\n",
    "df = pd.read_excel(ori_csv_path)\n",
    "df_ai = pd.read_excel(ai_csv_path)\n",
    "\n",
    "\n",
    "df['Tone'] = df['Tone'].astype(str)\n",
    "df_ai['Tone'] = df_ai['Tone'].astype(str)\n",
    "df['Location'] = df['Location'].astype(str)\n",
    "df_ai['Location'] = df_ai['Location'].astype(str)\n",
    "mid = pd.get_dummies(df[df.columns[3:]])\n",
    "head = df[df.columns[:3]]\n",
    "mid_ai = pd.get_dummies(df_ai[df_ai.columns[3:]])\n",
    "head_ai = df_ai[df_ai.columns[:3]]\n",
    "new_df = pd.concat([head,mid],axis=1)\n",
    "new_df_ai = pd.concat([head_ai,mid_ai],axis=1)\n",
    "\n",
    "\n",
    "new_df.columns,len(new_df.columns)\n",
    "issmic_train_features = new_df.loc[new_df['Training/Testing'] == 'Training'].iloc[:,3:].values\n",
    "issmic_train_labels = new_df.loc[new_df['Training/Testing'] == 'Training'].iloc[:,2].values\n",
    "issmic_train_features.shape, issmic_train_labels.shape\n",
    "time.strftime('%m-%d',time.localtime())\n",
    "result_name = '{}_{}features_{}trained'.format(time.strftime('%m-%d',time.localtime()),issmic_train_features.shape[1],issmic_train_features.shape[0])\n",
    "result_name\n",
    "result_path = os.path.join(\"model\",result_name)\n",
    "result_path\n",
    "\n",
    "if not os.path.exists(result_path):\n",
    "    os.makedirs(result_path)\n",
    "issmic_test_features = new_df_ai.loc[new_df_ai['Training/Testing'] == 'Testing'].iloc[:,3:].values\n",
    "issmic_test_labels = new_df_ai.loc[new_df_ai['Training/Testing'] == 'Testing'].iloc[:,2].values\n",
    "issmic_test_features.shape, issmic_test_labels.shape"
   ]
  },
  {
   "cell_type": "code",
   "execution_count": 6,
   "metadata": {
    "ExecuteTime": {
     "end_time": "2023-06-08T07:38:12.132233Z",
     "start_time": "2023-06-08T07:38:12.121262Z"
    },
    "collapsed": true
   },
   "outputs": [],
   "source": [
    "def naive_bayes_classifier(train_x, train_y):\n",
    "    from sklearn.naive_bayes import MultinomialNB\n",
    "    model = MultinomialNB(alpha=0.01)  \n",
    "    model.fit(train_x, train_y,verbose=1)  \n",
    "    return model\n",
    "\n",
    "def gaussian_classifier(train_x, train_y):\n",
    "    from sklearn.naive_bayes import GaussianNB\n",
    "    model = GaussianNB()  \n",
    "    model.fit(train_x, train_y)  \n",
    "    return model\n",
    "\n",
    "def knn_classifier(train_x, train_y):  \n",
    "    from sklearn.neighbors import KNeighborsClassifier  \n",
    "    model = KNeighborsClassifier()  \n",
    "    model.fit(train_x, train_y)  \n",
    "    return model  \n",
    "\n",
    "def logistic_regression_classifier(train_x, train_y):  \n",
    "    from sklearn.linear_model import LogisticRegression  \n",
    "    model = LogisticRegression(penalty='l2',solver='lbfgs', max_iter=100)  \n",
    "    model.fit(train_x, train_y)  \n",
    "    return model  \n",
    "\n",
    "def random_forest_classifier(train_x, train_y):  \n",
    "    from sklearn.ensemble import RandomForestClassifier  \n",
    "    model = RandomForestClassifier(n_estimators=8,random_state=66)  \n",
    "    model.fit(train_x, train_y)  \n",
    "    return model  \n",
    "\n",
    "def decision_tree_classifier(train_x, train_y):  \n",
    "    from sklearn import tree  \n",
    "    model = tree.DecisionTreeClassifier()  \n",
    "    model.fit(train_x, train_y)  \n",
    "    return model  \n",
    "\n",
    "def gradient_boosting_classifier(train_x, train_y):  \n",
    "    from sklearn.ensemble import GradientBoostingClassifier  \n",
    "    model = GradientBoostingClassifier(n_estimators=200)  \n",
    "    model.fit(train_x, train_y)  \n",
    "    return model  \n",
    "\n",
    "def svm_classifier(train_x, train_y):  \n",
    "    from sklearn.svm import SVC  \n",
    "    model = SVC(kernel='rbf', probability=True)  \n",
    "    model.fit(train_x, train_y)  \n",
    "    return model  \n",
    "\n",
    "def svm_cross_validation(train_x, train_y):  \n",
    "    from sklearn.model_selection import GridSearchCV  \n",
    "    from sklearn.svm import SVC  \n",
    "    model = SVC(kernel='rbf', probability=True)  \n",
    "    param_grid = {'C': [1e-3, 1e-2, 1e-1, 1, 10, 100, 1000], 'gamma': [0.001, 0.0001]}  \n",
    "    grid_search = GridSearchCV(model, param_grid, n_jobs = 1, verbose=1)  \n",
    "    grid_search.fit(train_x, train_y)  \n",
    "    best_parameters = grid_search.best_estimator_.get_params()  \n",
    "    for para, val in list(best_parameters.items()):  \n",
    "        print(para, val)  \n",
    "    model = SVC(kernel='rbf', C=best_parameters['C'], gamma=best_parameters['gamma'], probability=True)  \n",
    "    model.fit(train_x, train_y)  \n",
    "    return model  \n",
    "\n",
    "def save_csv(columns, data, csv_path, index=False, header=True):\n",
    "    data_array = np.array(data)\n",
    "    df = pd.DataFrame(data_array.T, columns=columns)\n",
    "    df.to_csv(csv_path, encoding='gbk', index=index, header=header)\n",
    "\n",
    "test_classifiers = ['GNB','KNN', 'LR', 'RF', 'DT', 'SVM', 'GBDT']\n",
    "classifiers = {'NB':naive_bayes_classifier,  \n",
    "               'GNB':gaussian_classifier,\n",
    "              'KNN':knn_classifier,  \n",
    "               'LR':logistic_regression_classifier,  \n",
    "               'RF':random_forest_classifier,  \n",
    "               'DT':decision_tree_classifier,  \n",
    "              'SVM':svm_classifier,  \n",
    "            'SVMCV':svm_cross_validation,  \n",
    "             'GBDT':gradient_boosting_classifier  \n",
    "} \n",
    "train_xs = [issmic_train_features]\n",
    "train_ys = [issmic_train_labels]\n",
    "test_xs = [issmic_test_features]\n",
    "test_ys = [issmic_test_labels]\n",
    "cases = ['neoplasm_diagnosis']\n",
    "ori_csv_name = os.path.split(ori_csv_path)[-1]\n",
    "ori_csv_name\n",
    "new_df.to_csv(os.path.join(result_path,ori_csv_name[:-4]+'_processed'+  '.csv'),index=False,encoding='gbk')"
   ]
  },
  {
   "cell_type": "code",
   "execution_count": 3,
   "metadata": {
    "ExecuteTime": {
     "end_time": "2022-08-18T01:00:53.757302Z",
     "start_time": "2022-08-18T01:00:53.686249Z"
    },
    "collapsed": true
   },
   "outputs": [],
   "source": [
    "# choose_idx = [1,3,6,8,13,15,16]\n",
    "# classifier = 'GNB'\n",
    "\n",
    "# choose_idx = [1,3,5,9,12,15,16,17]\n",
    "# classifier = 'KNN'\n",
    "\n",
    "# choose_idx = [1,2,3,8,10,13,15]\n",
    "# classifier = 'LR'\n",
    "\n",
    "# choose_idx = [1,3,7,8,12,15]\n",
    "# classifier = 'RF'\n",
    "\n",
    "# choose_idx = [0,1,3,8,11,15]\n",
    "# classifier = 'DT'\n",
    "\n",
    "# choose_idx = [0,1,3,8,10,11,12,15]\n",
    "# classifier = 'SVM'\n",
    "\n",
    "# choose_idx = [0,1,3,8,12,16]\n",
    "# classifier = 'GBDT'\n",
    "\n",
    "train_x = issmic_train_features[:,choose_idx]\n",
    "train_y = issmic_train_labels\n",
    "\n",
    "test_x = issmic_test_features[:,choose_idx]\n",
    "test_y = issmic_test_labels\n",
    "model = classifiers[classifier](train_x,train_y)"
   ]
  },
  {
   "cell_type": "code",
   "execution_count": 4,
   "metadata": {
    "ExecuteTime": {
     "end_time": "2022-06-21T01:43:02.173209Z",
     "start_time": "2022-06-21T01:43:00.122951Z"
    }
   },
   "outputs": [
    {
     "name": "stderr",
     "output_type": "stream",
     "text": [
      "Using TensorFlow backend.\n"
     ]
    }
   ],
   "source": [
    "from core.images import save_cache, load_cache\n",
    "save_cache(model, \"nihe\\model.pkl\")"
   ]
  },
  {
   "cell_type": "code",
   "execution_count": 4,
   "metadata": {
    "ExecuteTime": {
     "end_time": "2023-06-08T07:35:57.723845Z",
     "start_time": "2023-06-08T07:35:57.706891Z"
    },
    "collapsed": true
   },
   "outputs": [],
   "source": [
    "from core.images import save_cache, load_cache\n",
    "rfc_model = load_cache(r\"nihe\\model.pkl\")\n",
    "predict = rfc_model.predict(test_x) \n",
    "c = confusion_matrix(test_y, predict)\n",
    "acc = (c[0][0] + c[1][1]) / (np.sum(c)) * 100\n",
    "sens = c[1][1] / np.sum(c[1]) * 100\n",
    "spec = c[0][0] / np.sum(c[0]) * 100\n",
    "print(\"testing-- accuracy:{:.2f}%, sensitivity:{:.2f}%, specificity:{:.2f}%\".format(acc, sens, spec))"
   ]
  },
  {
   "cell_type": "code",
   "execution_count": 3,
   "metadata": {
    "ExecuteTime": {
     "end_time": "2023-06-08T07:35:40.850812Z",
     "start_time": "2023-06-08T07:35:40.841838Z"
    },
    "collapsed": true
   },
   "outputs": [],
   "source": [
    "importances = model.feature_importances_\n",
    "for imp in importances:\n",
    "    print('{:.3f}'.format(imp),',',end='')"
   ]
  },
  {
   "cell_type": "code",
   "execution_count": 6,
   "metadata": {
    "ExecuteTime": {
     "end_time": "2022-08-18T01:01:02.047208Z",
     "start_time": "2022-08-18T01:01:02.037262Z"
    },
    "collapsed": true
   },
   "outputs": [],
   "source": [
    "pred_proba_both = model.predict_proba(test_x)\n",
    "issmic_test_features = list(new_df_ai.loc[new_df_ai['Training/Testing'] == 'Testing'].iloc[:,0].values)\n",
    "pred_proba_pos = pred_proba_both[:,1]\n",
    "pred_proba_pos = np.expand_dims(pred_proba_pos,axis=-1)"
   ]
  },
  {
   "cell_type": "code",
   "execution_count": 1,
   "metadata": {
    "ExecuteTime": {
     "end_time": "2023-06-08T07:35:10.476589Z",
     "start_time": "2023-06-08T07:35:10.465619Z"
    },
    "collapsed": true
   },
   "outputs": [],
   "source": [
    "to_check_path_result =\" result\"\n",
    "if not os.path.exists(to_check_path_result):\n",
    "    os.mkdir(to_check_path_result)\n",
    "import matplotlib.pyplot as plt  \n",
    "plt.rcParams['font.sans-serif'] = [u'SimHei']\n",
    "plt.rcParams['axes.unicode_minus'] = False\n",
    "threshhold = 0.5\n",
    "pred_proba_pos_bak = pred_proba_pos.copy()\n",
    "pred_proba_pos_bak[np.where(pred_proba_pos_bak > threshhold)]= 1\n",
    "pred_proba_pos_bak[np.where(pred_proba_pos_bak <= threshhold)] = 0\n",
    "Plot.show_matrix(pred_proba_pos_bak, test_y, 2, to_check_path_result)\n",
    "Plot.get_roc(test_y, pred_proba_pos, to_check_path_result)"
   ]
  },
  {
   "cell_type": "code",
   "execution_count": null,
   "metadata": {
    "collapsed": true
   },
   "outputs": [],
   "source": []
  }
 ],
 "metadata": {
  "kernelspec": {
   "display_name": "Python 3 (ipykernel)",
   "language": "python",
   "name": "python3"
  },
  "language_info": {
   "codemirror_mode": {
    "name": "ipython",
    "version": 3
   },
   "file_extension": ".py",
   "mimetype": "text/x-python",
   "name": "python",
   "nbconvert_exporter": "python",
   "pygments_lexer": "ipython3",
   "version": "3.9.13"
  },
  "toc": {
   "base_numbering": 1,
   "nav_menu": {},
   "number_sections": true,
   "sideBar": true,
   "skip_h1_title": false,
   "title_cell": "Table of Contents",
   "title_sidebar": "Contents",
   "toc_cell": false,
   "toc_position": {},
   "toc_section_display": true,
   "toc_window_display": false
  }
 },
 "nbformat": 4,
 "nbformat_minor": 4
}
