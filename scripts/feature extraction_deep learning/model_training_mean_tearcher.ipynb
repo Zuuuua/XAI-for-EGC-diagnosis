{
 "cells": [
  {
   "cell_type": "code",
   "execution_count": 1,
   "id": "e316c3f7",
   "metadata": {
    "ExecuteTime": {
     "end_time": "2023-06-13T02:04:06.632168Z",
     "start_time": "2023-06-13T02:04:06.617179Z"
    }
   },
   "outputs": [],
   "source": [
    "import os,sys\n",
    "sys.path.insert(0, r'~\\trainer')\n",
    "sys.path.insert(0, r'~\\core')\n",
    "import torch\n",
    "from core.mean_teacher.run_context import RunContext\n",
    "from core.mean_teacher.cli import parse_dict_args\n",
    "from core import mean_teacher_main\n",
    "import torchvision.transforms as transforms\n",
    "from core.mean_teacher import data"
   ]
  },
  {
   "cell_type": "code",
   "execution_count": 2,
   "id": "be762c2b",
   "metadata": {
    "ExecuteTime": {
     "end_time": "2023-03-16T07:21:31.910402Z",
     "start_time": "2023-03-16T07:21:31.897408Z"
    },
    "collapsed": true
   },
   "outputs": [],
   "source": [
    "def data_trans():\n",
    "    train_transformation = data.TransformTwice(transforms.Compose([\n",
    "        data.RandomTranslateWithReflect(4),\n",
    "        transforms.RandomRotation(10),\n",
    "        transforms.RandomResizedCrop(224),\n",
    "        transforms.RandomHorizontalFlip(),\n",
    "        transforms.RandomVerticalFlip(),\n",
    "        transforms.ToTensor(),\n",
    "        transforms.Normalize(**channel_stats)\n",
    "    ]))\n",
    "    eval_transformation = transforms.Compose([\n",
    "        transforms.Resize(256),\n",
    "        transforms.CenterCrop(224),\n",
    "        transforms.ToTensor(),\n",
    "        transforms.Normalize(**channel_stats)\n",
    "    ])\n",
    "\n",
    "    return {\n",
    "        'train_transformation': train_transformation,\n",
    "        'eval_transformation': eval_transformation,\n",
    "        'datadir': '', \n",
    "        'num_classes': n_labels\n",
    "    }\n",
    "\n",
    "def parameters():\n",
    "    defaults = {\n",
    "        'workers': 2,\n",
    "        'checkpoint_epochs': 1,\n",
    "        'arch': 'resnet_50',\n",
    "        'consistency_type': 'mse',\n",
    "        'consistency_rampup': 5,\n",
    "        'consistency': 4.0,\n",
    "        'weight_decay': 2e-4,\n",
    "        'lr_rampup': 0,\n",
    "        'base_lr': 0.001,\n",
    "        'nesterov': True,\n",
    "        'pretrained': True,\n",
    "        \n",
    "        'epochs': 300,\n",
    "        'lr_rampdown_epochs': 400,\n",
    "        'ema_decay': 0.99,\n",
    "    }\n",
    "\n",
    "    for data_seed in range(10, 110, 10):\n",
    "        yield {\n",
    "            **defaults,\n",
    "            'title': '%s-label %s' % (data_seed, ds_name),\n",
    "            'n_labels': n_labels,\n",
    "            'data_seed': data_seed,\n",
    "            'base_batch_size': bs,\n",
    "            'base_labeled_batch_size': 0 if data_seed == 100 else int(bs/2),\n",
    "            'exclude-unlabeled': True if data_seed == 100 else False,\n",
    "            'train_subdir': '%s' % os.path.join(root,'train_%s.txt'% int(data_seed)),\n",
    "            'eval_subdir': '%s' % os.path.join(root,'val_label_%s.txt'% int(data_seed)),\n",
    "        }\n",
    "\n",
    "def run(title, base_batch_size, base_labeled_batch_size, base_lr, n_labels, data_seed, **kwargs):\n",
    "    ngpu = torch.cuda.device_count()\n",
    "    assert ngpu > 0, \"Expecting at least one GPU, found none.\"\n",
    "\n",
    "    adapted_args = {\n",
    "        'batch_size': base_batch_size * ngpu,\n",
    "        'labeled_batch_size': base_labeled_batch_size * ngpu,\n",
    "        'lr': base_lr * ngpu,\n",
    "        'labels': os.path.join(root,'label_%s.txt'% int(data_seed)),\n",
    "    }\n",
    "    context = RunContext(ds_name, \"c{}_r{}_s{}_lr{}_{}\".format(n_labels, data_seed, base_batch_size, base_lr,lab))\n",
    "    mean_teacher_main.args = parse_dict_args(**adapted_args, **kwargs)\n",
    "    mean_teacher_main.main(context, data_trans())"
   ]
  },
  {
   "cell_type": "markdown",
   "id": "1451f661",
   "metadata": {},
   "source": [
    "## Clear_boundary"
   ]
  },
  {
   "cell_type": "code",
   "execution_count": 2,
   "id": "7749ed13",
   "metadata": {
    "ExecuteTime": {
     "end_time": "2023-06-13T02:06:31.746040Z",
     "start_time": "2023-06-13T02:06:31.729084Z"
    },
    "jupyter": {
     "outputs_hidden": true
    },
    "tags": []
   },
   "outputs": [],
   "source": [
    "bs = 16\n",
    "n_labels = 2\n",
    "ds_name = 'model_path'\n",
    "\n",
    "channel_stats = dict(mean=[0.2061, 0.1973, 0.1918],std=[0.2777, 0.2747, 0.2733]) # Copied from the output of data_preprocessing\n",
    "\n",
    "root = r\"~\\data\\imgs_feature_extraction_deep_learning\\imgs_boundary_clear\\train\"\n",
    "\n",
    "for run_params in parameters():\n",
    "    run(**run_params)"
   ]
  },
  {
   "cell_type": "markdown",
   "id": "5d3f1116",
   "metadata": {},
   "source": [
    "## Surface_rough"
   ]
  },
  {
   "cell_type": "code",
   "execution_count": 3,
   "id": "61f87342",
   "metadata": {
    "ExecuteTime": {
     "end_time": "2023-06-13T02:06:36.574813Z",
     "start_time": "2023-06-13T02:06:36.570824Z"
    },
    "jupyter": {
     "outputs_hidden": true
    },
    "tags": []
   },
   "outputs": [],
   "source": [
    "bs = 16\n",
    "n_labels = 2\n",
    "ds_name = 'model_path'\n",
    "\n",
    "channel_stats = dict(mean=[0.2061, 0.1973, 0.1918],std=[0.2777, 0.2747, 0.2733])\n",
    "\n",
    "root = r\"~\\data\\imgs_feature_extraction_deep_learning\\imgs_surface_rough\\train\"\n",
    "\n",
    "for run_params in parameters():\n",
    "    run(**run_params)"
   ]
  },
  {
   "cell_type": "markdown",
   "id": "c2416d62",
   "metadata": {},
   "source": [
    "## Bleeding"
   ]
  },
  {
   "cell_type": "code",
   "execution_count": 4,
   "id": "43199012",
   "metadata": {
    "ExecuteTime": {
     "end_time": "2023-06-13T02:06:41.142823Z",
     "start_time": "2023-06-13T02:06:41.127745Z"
    },
    "jupyter": {
     "outputs_hidden": true
    },
    "tags": []
   },
   "outputs": [],
   "source": [
    "bs = 16\n",
    "n_labels = 2\n",
    "ds_name = 'model_path'\n",
    "\n",
    "channel_stats = dict(mean=[0.2061, 0.1973, 0.1918],std=[0.2777, 0.2747, 0.2733])\n",
    "\n",
    "root = r\"~\\data\\imgs_feature_extraction_deep_learning\\imgs_bleeding\\train\"\n",
    "\n",
    "for run_params in parameters():\n",
    "    run(**run_params)"
   ]
  },
  {
   "cell_type": "markdown",
   "id": "f6ccc696",
   "metadata": {},
   "source": [
    "## Tone"
   ]
  },
  {
   "cell_type": "code",
   "execution_count": 5,
   "id": "95681a51",
   "metadata": {
    "ExecuteTime": {
     "end_time": "2023-06-13T02:06:45.733652Z",
     "start_time": "2023-06-13T02:06:45.719689Z"
    },
    "jupyter": {
     "outputs_hidden": true
    },
    "tags": []
   },
   "outputs": [],
   "source": [
    "bs = 16\n",
    "n_labels = 3\n",
    "ds_name = 'model_path'\n",
    "\n",
    "channel_stats = dict(mean=[0.2061, 0.1973, 0.1918],std=[0.2777, 0.2747, 0.2733])\n",
    "\n",
    "root = r\"~\\data\\imgs_feature_extraction_deep_learning\\imgs_tone\\train\"\n",
    "\n",
    "for run_params in parameters():\n",
    "    run(**run_params)"
   ]
  },
  {
   "cell_type": "markdown",
   "id": "212ef955",
   "metadata": {},
   "source": [
    "## Elevated"
   ]
  },
  {
   "cell_type": "code",
   "execution_count": 6,
   "id": "947518c9",
   "metadata": {
    "ExecuteTime": {
     "end_time": "2023-06-13T02:06:50.097142Z",
     "start_time": "2023-06-13T02:06:50.086167Z"
    },
    "jupyter": {
     "outputs_hidden": true
    },
    "tags": []
   },
   "outputs": [],
   "source": [
    "bs = 16\n",
    "n_labels = 2\n",
    "ds_name = 'model_path'\n",
    "\n",
    "channel_stats = dict(mean=[0.2061, 0.1973, 0.1918],std=[0.2777, 0.2747, 0.2733])\n",
    "\n",
    "root = r\"~\\data\\imgs_feature_extraction_deep_learning\\imgs_elevated\\train\"\n",
    "\n",
    "for run_params in parameters():\n",
    "    run(**run_params)"
   ]
  },
  {
   "cell_type": "markdown",
   "id": "39c66853",
   "metadata": {
    "collapsed": true
   },
   "source": [
    "### Depressed"
   ]
  },
  {
   "cell_type": "code",
   "execution_count": 7,
   "id": "ae625333",
   "metadata": {
    "ExecuteTime": {
     "end_time": "2023-06-13T02:06:54.440809Z",
     "start_time": "2023-06-13T02:06:54.423714Z"
    }
   },
   "outputs": [],
   "source": [
    "bs = 16\n",
    "n_labels = 2\n",
    "ds_name = 'model_path'\n",
    "\n",
    "channel_stats = dict(mean=[0.2061, 0.1973, 0.1918],std=[0.2777, 0.2747, 0.2733])\n",
    "\n",
    "root = r\"~\\data\\imgs_feature_extraction_deep_learning\\imgs_depressed\\train\"\n",
    "\n",
    "for run_params in parameters():\n",
    "    run(**run_params)"
   ]
  },
  {
   "cell_type": "code",
   "execution_count": null,
   "id": "e07072a7",
   "metadata": {
    "collapsed": true
   },
   "outputs": [],
   "source": []
  }
 ],
 "metadata": {
  "kernelspec": {
   "display_name": "Python 3 (ipykernel)",
   "language": "python",
   "name": "python3"
  },
  "language_info": {
   "codemirror_mode": {
    "name": "ipython",
    "version": 3
   },
   "file_extension": ".py",
   "mimetype": "text/x-python",
   "name": "python",
   "nbconvert_exporter": "python",
   "pygments_lexer": "ipython3",
   "version": "3.9.13"
  }
 },
 "nbformat": 4,
 "nbformat_minor": 5
}
