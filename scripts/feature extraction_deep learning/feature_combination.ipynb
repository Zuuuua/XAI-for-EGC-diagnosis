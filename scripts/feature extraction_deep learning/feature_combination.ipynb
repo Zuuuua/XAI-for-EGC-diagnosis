{
 "cells": [
  {
   "cell_type": "code",
   "execution_count": 1,
   "id": "b63b8d20",
   "metadata": {
    "ExecuteTime": {
     "end_time": "2023-06-13T02:13:52.634268Z",
     "start_time": "2023-06-13T02:13:52.624272Z"
    },
    "collapsed": true
   },
   "outputs": [],
   "source": [
    "import os,sys\n",
    "sys.path.insert(0, r'~\\trainer')\n",
    "sys.path.insert(0, r'~\\core')\n",
    "\n",
    "import time\n",
    "from natsort import natsorted\n",
    "import pandas as pd\n",
    "import numpy as np\n",
    "import itertools\n",
    "import random\n",
    "\n",
    "import torch\n",
    "import torch.nn as nn\n",
    "import torchvision.transforms as transforms\n",
    "from torchvision import models\n",
    "\n",
    "from PIL import Image\n",
    "\n",
    "from sklearn.metrics import roc_curve,auc\n",
    "from sklearn.metrics import confusion_matrix\n",
    "\n",
    "import matplotlib.pyplot as plt\n",
    "\n",
    "from core.mean_teacher_main import TextFileDataset\n",
    "\n",
    "import xlwt\n",
    "import xlrd\n",
    "import xlutils.copy\n",
    "import  pandas  as pd\n",
    "from xlrd import open_workbook\n",
    "import shutil"
   ]
  },
  {
   "cell_type": "code",
   "execution_count": 2,
   "id": "94fe77eb",
   "metadata": {
    "ExecuteTime": {
     "end_time": "2022-08-15T08:18:26.946158Z",
     "start_time": "2022-08-15T08:18:26.932175Z"
    },
    "collapsed": true
   },
   "outputs": [],
   "source": [
    "def load_model(model_path):\n",
    "    device = torch.device(\"cuda:0\" if torch.cuda.is_available() else \"cpu\")\n",
    "    model = models.resnet50(pretrained=False)\n",
    "    fc_inputs = model.fc.in_features\n",
    "    model.fc = nn.Linear(fc_inputs, 2)\n",
    "    for param in model.parameters():\n",
    "        param.requires_grad = True\n",
    "    model = nn.DataParallel(model).cuda()\n",
    "    checkpoint = torch.load(model_path)\n",
    "    model.load_state_dict(checkpoint) \n",
    "    model.to(device)\n",
    "    model.eval()\n",
    "    return model\n",
    "\n",
    "def load_model_3(model_path):\n",
    "    device = torch.device(\"cuda:0\" if torch.cuda.is_available() else \"cpu\")\n",
    "    model = models.resnet50(pretrained=False)\n",
    "    fc_inputs = model.fc.in_features\n",
    "    model.fc = nn.Linear(fc_inputs, 3)\n",
    "    for param in model.parameters():\n",
    "        param.requires_grad = True\n",
    "    model = nn.DataParallel(model).cuda()\n",
    "    checkpoint = torch.load(model_path)\n",
    "    model.load_state_dict(checkpoint) \n",
    "    model.to(device)\n",
    "    model.eval()\n",
    "    return model\n",
    "\n",
    "def predict(model,img_path,channel_stats,binary_threshold):\n",
    "    device = torch.device(\"cuda:0\" if torch.cuda.is_available() else \"cpu\")\n",
    "    image_PIL = Image.open(img_path)\n",
    "    eval_transformation = transforms.Compose([transforms.Resize(256),transforms.CenterCrop(224),\n",
    "        transforms.ToTensor(),transforms.Normalize(**channel_stats)])\n",
    "    image_tensor = eval_transformation(image_PIL)\n",
    "    image_tensor.unsqueeze_(0)\n",
    "    image_tensor = image_tensor.to(device)\n",
    "    out = model(image_tensor)\n",
    "    percentage = torch.nn.functional.softmax(out, dim=1)[0] * 100\n",
    "    zxd = percentage.cpu().detach().numpy().tolist()\n",
    "    lable = 0\n",
    "    if len(zxd) == 2:\n",
    "        if float(zxd[1]) > binary_threshold:\n",
    "            lable = 1\n",
    "    elif len(zxd) > 2:\n",
    "        lable = zxd.index(max(zxd))\n",
    "    return lable\n",
    "\n",
    "def to_excel(data_list,file_path,col):\n",
    "    rb = xlrd.open_workbook(file_path)\n",
    "    wb = xlutils.copy.copy(rb)\n",
    "    ws = wb.get_sheet(0)\n",
    "    for i in range(len(data_list)):\n",
    "        ws.write(i + 1, col, data_list[i])\n",
    "    wb.save(file_path)"
   ]
  },
  {
   "cell_type": "code",
   "execution_count": 3,
   "id": "3bbab6f0",
   "metadata": {
    "ExecuteTime": {
     "end_time": "2022-08-15T08:18:38.934147Z",
     "start_time": "2022-08-15T08:18:26.947707Z"
    },
    "collapsed": true
   },
   "outputs": [],
   "source": [
    "# load the trained models\n",
    "\n",
    "boundary_model_path = 'best_model_path'\n",
    "model_boundary = load_model(boundary_model_path)\n",
    "\n",
    "surface_model_path = 'best_model_path'\n",
    "model_surface = load_model(surface_model_path)\n",
    "\n",
    "bleeding_model_path = 'best_model_path'\n",
    "model_chuxue = load_model(bleeding_model_path)\n",
    "\n",
    "tone_model_path = 'best_model_path'\n",
    "model_hongbai = load_model_3(tone_model_path)\n",
    "\n",
    "elevated_model_path = 'best_model_path'\n",
    "model_elevated = load_model(elevated_model_path)\n",
    "\n",
    "depressed_model_path = 'best_model_path'\n",
    "model_depressed = load_model(depressed_model_path)"
   ]
  },
  {
   "cell_type": "code",
   "execution_count": 4,
   "id": "55808405",
   "metadata": {
    "ExecuteTime": {
     "end_time": "2022-07-20T01:11:52.338047Z",
     "start_time": "2022-07-20T01:11:52.328380Z"
    },
    "collapsed": true
   },
   "outputs": [],
   "source": [
    "imgs_path = r\"~\\data\\imgs_feature_extraction_deep_learning\"\n",
    "excel_path = \"file path for the sheet saving the output\""
   ]
  },
  {
   "cell_type": "code",
   "execution_count": 3,
   "id": "ef9cd4a1",
   "metadata": {
    "ExecuteTime": {
     "end_time": "2023-06-08T07:11:05.103256Z",
     "start_time": "2023-06-08T07:11:05.091288Z"
    },
    "collapsed": true
   },
   "outputs": [],
   "source": [
    "name_list = []\n",
    "boundary_label_list = []\n",
    "surface_label_list = []\n",
    "bleeding_label_list = []\n",
    "tone_label_list = []\n",
    "elevated_label_list = []\n",
    "depressed_label_list = []\n",
    "ca_noca_label_list = []\n",
    "for file in os.listdir(imgs_path):\n",
    "    name_list.append(file)\n",
    "    img_path = os.path.join(imgs_path, file)\n",
    "    \n",
    "    channel_stats_boundary = dict(mean=[0.2061, 0.1973, 0.1918],std=[0.2777, 0.2747, 0.2733])\n",
    "    boundary_label =  predict(model_boundary, img_path, channel_stats_boundary, 65)\n",
    "    boundary_label_list.append(boundary_label)  \n",
    "    \n",
    "    channel_stats_surface = dict(mean=[0.1801, 0.1735, 0.1492],std=[0.2437, 0.2395, 0.2168])\n",
    "    surface_label =  predict(model_surface,img_path,channel_stats_surface,95)\n",
    "    surface_label_list.append(surface_label) \n",
    "    \n",
    "    channel_stats_bleeding = dict(mean=[0.1713, 0.1608, 0.1504],std=[0.255, 0.25, 0.2458])\n",
    "    bleeding_label =  predict(model_bleeding,img_path,channel_stats_bleeding,40)\n",
    "    bleeding_label_list.append(bleeding_label) \n",
    "    \n",
    "    channel_stats_tone = dict(mean=[0.2018, 0.1929, 0.1886],std=[0.2741, 0.272, 0.2716])\n",
    "    tone_label =  predict(model_tone,img_path,channel_stats_tone,50)\n",
    "    tone_label_list.append(tone_label) \n",
    "\n",
    "    channel_stats_elevated = dict(mean=[0.218, 0.2089, 0.2019],std=[0.2767, 0.2747, 0.274])\n",
    "    elevated_label =  predict(modle_elevated,img_path,channel_stats_elevated,80)\n",
    "    elevated_label_list.append(elevated_label) \n",
    "    \n",
    "    channel_stats_depressed = dict(mean=[0.1966, 0.1878, 0.1802],std=[0.2712, 0.2683, 0.2652])\n",
    "    depressed_label =  predict(model_depressed,img_path,channel_stats_depressed,35)\n",
    "    depressed_label_list.append(depressed_label) \n",
    "    \n",
    "to_excel(name_list,excel_path,0) \n",
    "to_excel(boundary_label_list,excel_path,1)\n",
    "to_excel(surface_label_list,excel_path,2) \n",
    "to_excel(bleeding_label_list,excel_path,3) \n",
    "to_excel(tone_label_list,excel_path,4) \n",
    "to_excel(elevated_label_list,excel_path,5) \n",
    "to_excel(depressed_label_list,excel_path,6) "
   ]
  },
  {
   "cell_type": "code",
   "execution_count": null,
   "id": "f6c8999e",
   "metadata": {
    "collapsed": true
   },
   "outputs": [],
   "source": []
  }
 ],
 "metadata": {
  "kernelspec": {
   "display_name": "Python 3 (ipykernel)",
   "language": "python",
   "name": "python3"
  },
  "language_info": {
   "codemirror_mode": {
    "name": "ipython",
    "version": 3
   },
   "file_extension": ".py",
   "mimetype": "text/x-python",
   "name": "python",
   "nbconvert_exporter": "python",
   "pygments_lexer": "ipython3",
   "version": "3.9.13"
  }
 },
 "nbformat": 4,
 "nbformat_minor": 5
}
