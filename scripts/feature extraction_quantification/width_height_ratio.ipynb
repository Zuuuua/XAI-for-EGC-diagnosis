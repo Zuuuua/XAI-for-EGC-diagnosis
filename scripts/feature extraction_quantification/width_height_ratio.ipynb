{
 "cells": [
  {
   "cell_type": "code",
   "execution_count": 3,
   "metadata": {
    "ExecuteTime": {
     "end_time": "2022-10-25T01:26:50.639999Z",
     "start_time": "2022-10-25T01:26:49.565561Z"
    },
    "collapsed": true
   },
   "outputs": [],
   "source": [
    "import cv2\n",
    "import os\n",
    "import shutil\n",
    "import heapq\n",
    "import numpy as np\n",
    "from scipy import stats as sts\n",
    "import math\n",
    "import xlwt\n",
    "import xlrd\n",
    "import xlutils.copy\n",
    "import pandas as pd\n",
    "from xlrd import open_workbook"
   ]
  },
  {
   "cell_type": "code",
   "execution_count": 4,
   "metadata": {
    "ExecuteTime": {
     "end_time": "2022-10-25T01:26:50.654711Z",
     "start_time": "2022-10-25T01:26:50.640997Z"
    },
    "collapsed": true
   },
   "outputs": [],
   "source": [
    "def read_img_file(path):\n",
    "    with open(path, 'rb') as img_file:\n",
    "        bytes = img_file.read()\n",
    "        nparr = np.fromstring(bytes, np.uint8)\n",
    "        img = cv2.imdecode(nparr, cv2.IMREAD_COLOR)\n",
    "        return img\n",
    "    \n",
    "# save data into excel sheet\n",
    "def to_excel(data_list,file_path,col):\n",
    "    rb = xlrd.open_workbook(file_path)\n",
    "    wb = xlutils.copy.copy(rb)\n",
    "    ws = wb.get_sheet(0)\n",
    "    for i in range(len(data_list)):\n",
    "        ws.write(i + 1, col, data_list[i])\n",
    "    wb.save(file_path)\n",
    "    \n",
    "# read data and seperate them into neoplasm and non-neoplasm\n",
    "def read_list(path,num,column_name):\n",
    "    df = pd.read_excel(path)\n",
    "    data = df[column_name]\n",
    "    ca_list = data[num:]  #ca: neoplasm\n",
    "    noca_list= data[:num] #noca: non-neoplasm\n",
    "    ca_data,noca_data = [],[]\n",
    "    for data in ca_list:\n",
    "        ca_data.append(float(data))\n",
    "    for data in noca_list:\n",
    "        noca_data.append(float(data))\n",
    "    return ca_data,noca_data\n",
    "\n",
    "# read sheet\n",
    "def read_list_1(path,column_name):\n",
    "    df = pd.read_excel(path)\n",
    "    data = df[column_name]\n",
    "    _list = data[:]\n",
    "    _data = []\n",
    "    for data in _list:\n",
    "        _data.append(data)\n",
    "    return _data"
   ]
  },
  {
   "cell_type": "markdown",
   "metadata": {},
   "source": [
    "### Define input and output path"
   ]
  },
  {
   "cell_type": "code",
   "execution_count": 3,
   "metadata": {
    "ExecuteTime": {
     "end_time": "2022-06-15T07:44:52.214270Z",
     "start_time": "2022-06-15T07:44:52.203297Z"
    },
    "collapsed": true
   },
   "outputs": [],
   "source": [
    "num_ca = 5 # Modify the number according to the actual situation \n",
    "num_noca = 5 # Modify the number according to the actual situation \n",
    "\n",
    "ca_path = r\"~\\data\\imgs_feature_extraction_quantification\\width_height_ratio\\1\"\n",
    "noca_path = r\"~\\data\\imgs_feature_extraction_quantification\\width_height_ratio\\0\"\n",
    "\n",
    "ca_excel_path = \"file path for the sheet that stores the feature prediction results\"\n",
    "noca_excel_path = \"file path for the sheet that stores the feature prediction results\""
   ]
  },
  {
   "cell_type": "code",
   "execution_count": 4,
   "metadata": {
    "ExecuteTime": {
     "end_time": "2022-06-15T07:44:53.722263Z",
     "start_time": "2022-06-15T07:44:53.627488Z"
    },
    "collapsed": true
   },
   "outputs": [],
   "source": [
    "ca_result_list = []\n",
    "for img_file in os.listdir(ca_path):\n",
    "    ca_result_list.append(img_file)    \n",
    "to_excel(ca_result_list,ca_excel_path,0) \n",
    "\n",
    "noca_result_list = []\n",
    "for img_file in os.listdir(noca_path):\n",
    "    noca_result_list.append(img_file)    \n",
    "to_excel(noca_result_list,noca_excel_path,0) "
   ]
  },
  {
   "cell_type": "markdown",
   "metadata": {},
   "source": [
    "### Analysis"
   ]
  },
  {
   "cell_type": "code",
   "execution_count": 1,
   "metadata": {
    "ExecuteTime": {
     "end_time": "2023-06-08T07:30:02.959150Z",
     "start_time": "2023-06-08T07:30:02.948179Z"
    },
    "collapsed": true
   },
   "outputs": [],
   "source": [
    "result_list = []\n",
    "for file in os.listdir(ca_path):\n",
    "    img_path = os.path.join(ca_path,file)\n",
    "    img = read_img_file(img_path)\n",
    "    H = img.shape[0]\n",
    "    W = img.shape[1]\n",
    "    std_color = min(W,H)/max(W,H)\n",
    "    print(std_color)\n",
    "    result_list.append(std_color)\n",
    "to_excel (result_list,ca_excel_path,1) "
   ]
  },
  {
   "cell_type": "code",
   "execution_count": 2,
   "metadata": {
    "ExecuteTime": {
     "end_time": "2023-06-08T07:30:07.637238Z",
     "start_time": "2023-06-08T07:30:07.634246Z"
    },
    "collapsed": true
   },
   "outputs": [],
   "source": [
    "result_list = []\n",
    "for file in os.listdir(noca_path):\n",
    "    img_path = os.path.join(noca_path,file)\n",
    "    img = read_img_file(img_path)\n",
    "    H = img.shape[0]\n",
    "    W = img.shape[1]\n",
    "    std_color = min(W,H)/max(W,H)\n",
    "    print(std_color)\n",
    "    result_list.append(std_color)\n",
    "to_excel (result_list,noca_excel_path,1) "
   ]
  },
  {
   "cell_type": "code",
   "execution_count": 3,
   "metadata": {
    "ExecuteTime": {
     "end_time": "2023-06-08T07:30:12.821195Z",
     "start_time": "2023-06-08T07:30:12.810224Z"
    },
    "collapsed": true
   },
   "outputs": [],
   "source": [
    "# identify the best cut-off value for classfying images into 1 and 0 \n",
    "col_name = \"Aspect ratio\" \n",
    "ca_list = read_list_1(ca_excel_path,col_name)\n",
    "noca_list = read_list_1(noca_excel_path,col_name)\n",
    "for ps in range(0,10000,1):\n",
    "    score = ps/1000\n",
    "    count_ca_right = 0\n",
    "    count_noca_right = 0\n",
    "    for k_ca in ca_list:  \n",
    "        if k_ca < score:\n",
    "            count_ca_right += 1\n",
    "    for k_noca in noca_list:\n",
    "        if k_noca > score:\n",
    "            count_noca_right += 1\n",
    "    tpr_ca = count_ca_right/num_ca\n",
    "    tnr_noca = count_noca_right/num_noca\n",
    "    if  tpr_ca > 0.5  and tnr_noca > 0.5:\n",
    "        print('cut-off value:',score)\n",
    "        print('sensitivity:',format(tpr_ca,'.4f'))\n",
    "        print('specificity:',format(tnr_noca,'.4f'))"
   ]
  },
  {
   "cell_type": "markdown",
   "metadata": {},
   "source": [
    "### Save the output"
   ]
  },
  {
   "cell_type": "code",
   "execution_count": 8,
   "metadata": {
    "ExecuteTime": {
     "end_time": "2022-06-17T01:40:58.720601Z",
     "start_time": "2022-06-17T01:40:58.705609Z"
    },
    "collapsed": true
   },
   "outputs": [],
   "source": [
    "ca_result_list = []\n",
    "for img_file in os.listdir(ca_path):\n",
    "    ca_result_list.append(img_file)    \n",
    "to_excel(ca_result_list,ca_excel_path,0) "
   ]
  },
  {
   "cell_type": "code",
   "execution_count": 9,
   "metadata": {
    "ExecuteTime": {
     "end_time": "2022-06-17T01:41:00.681589Z",
     "start_time": "2022-06-17T01:40:59.633615Z"
    }
   },
   "outputs": [
    {
     "name": "stderr",
     "output_type": "stream",
     "text": [
      "C:\\ProgramData\\Anaconda3\\envs\\tf\\lib\\site-packages\\ipykernel_launcher.py:4: DeprecationWarning: The binary mode of fromstring is deprecated, as it behaves surprisingly on unicode inputs. Use frombuffer instead\n",
      "  after removing the cwd from sys.path.\n"
     ]
    }
   ],
   "source": [
    "result_list = []\n",
    "derta = N\n",
    "for file in os.listdir(ca_path):\n",
    "    img_path = os.path.join(ca_path,file)\n",
    "    img = read_img_file(img_path)\n",
    "    H = img.shape[0]\n",
    "    W = img.shape[1]\n",
    "    va = min(W,H)/max(W,H)\n",
    "    if va <= derta:\n",
    "        result_list.append(1)\n",
    "    else:\n",
    "        result_list.append(0)\n",
    "to_excel (result_list,ca_excel_path,1) "
   ]
  }
 ],
 "metadata": {
  "kernelspec": {
   "display_name": "Python 3 (ipykernel)",
   "language": "python",
   "name": "python3"
  },
  "language_info": {
   "codemirror_mode": {
    "name": "ipython",
    "version": 3
   },
   "file_extension": ".py",
   "mimetype": "text/x-python",
   "name": "python",
   "nbconvert_exporter": "python",
   "pygments_lexer": "ipython3",
   "version": "3.9.13"
  },
  "toc": {
   "base_numbering": 1,
   "nav_menu": {
    "height": "45px",
    "width": "282px"
   },
   "number_sections": true,
   "sideBar": true,
   "skip_h1_title": false,
   "title_cell": "Table of Contents",
   "title_sidebar": "Contents",
   "toc_cell": false,
   "toc_position": {},
   "toc_section_display": true,
   "toc_window_display": false
  }
 },
 "nbformat": 4,
 "nbformat_minor": 2
}
