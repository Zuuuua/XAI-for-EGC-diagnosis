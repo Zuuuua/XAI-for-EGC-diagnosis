{
 "cells": [
  {
   "cell_type": "code",
   "execution_count": 1,
   "metadata": {
    "ExecuteTime": {
     "end_time": "2022-06-15T07:00:46.596576Z",
     "start_time": "2022-06-15T07:00:44.630837Z"
    },
    "collapsed": true
   },
   "outputs": [],
   "source": [
    "import cv2\n",
    "import os\n",
    "import shutil\n",
    "import heapq\n",
    "import numpy as np\n",
    "from scipy import stats as sts\n",
    "import math\n",
    "import xlwt\n",
    "import xlrd\n",
    "import xlutils.copy\n",
    "import pandas as pd\n",
    "from xlrd import open_workbook\n",
    "from skimage import filters\n",
    "import skimage.io as io\n",
    "from skimage.morphology import disk\n",
    "import matplotlib\n",
    "from PIL import Image\n",
    "import matplotlib.pyplot as plt\n",
    "from matplotlib import pyplot as plt\n",
    "from scipy.signal import convolve2d\n",
    "from PIL import Image, ImageDraw, ImageFont\n",
    "from skimage.feature import local_binary_pattern\n",
    "from skimage import feature as ft\n",
    "from sklearn.metrics.cluster import entropy\n",
    "from sklearn import metrics\n",
    "from scipy.signal import resample\n",
    "from scipy.fftpack import dct"
   ]
  },
  {
   "cell_type": "code",
   "execution_count": 2,
   "metadata": {
    "ExecuteTime": {
     "end_time": "2022-06-15T07:00:46.627493Z",
     "start_time": "2022-06-15T07:00:46.597574Z"
    },
    "collapsed": true
   },
   "outputs": [],
   "source": [
    "def read_img_file(path):\n",
    "    with open(path, 'rb') as img_file:\n",
    "        bytes = img_file.read()\n",
    "        nparr = np.fromstring(bytes, np.uint8)\n",
    "        img = cv2.imdecode(nparr, cv2.IMREAD_COLOR)\n",
    "        return img\n",
    "    \n",
    "# save data into excel sheet\n",
    "def to_excel(data_list,file_path,col):\n",
    "    rb = xlrd.open_workbook(file_path)\n",
    "    wb = xlutils.copy.copy(rb)\n",
    "    ws = wb.get_sheet(0)\n",
    "    for i in range(len(data_list)):\n",
    "        ws.write(i + 1, col, data_list[i])\n",
    "    wb.save(file_path)\n",
    "    \n",
    "# read data and seperate them into neoplasm and non-neoplasm\n",
    "def read_list(path,num,column_name):\n",
    "    df = pd.read_excel(path)\n",
    "    data = df[column_name]\n",
    "    ca_list = data[num:]  #ca: neoplasm\n",
    "    noca_list= data[:num] #noca: non-neoplasm\n",
    "    ca_data,noca_data = [],[]\n",
    "    for data in ca_list:\n",
    "        ca_data.append(float(data))\n",
    "    for data in noca_list:\n",
    "        noca_data.append(float(data))\n",
    "    return ca_data,noca_data\n",
    "\n",
    "def grey2mask(img_label, thr=0.5):\n",
    "    mask = img_label / 255\n",
    "    mask[mask > thr] = 1\n",
    "    mask[mask <= thr] = 0\n",
    "    return mask\n",
    "\n",
    "# read sheet\n",
    "def read_list_1(path,column_name):\n",
    "    df = pd.read_excel(path)\n",
    "    data = df[column_name]\n",
    "    _list = data[:]\n",
    "    _data = []\n",
    "    for data in _list:\n",
    "        _data.append(data)\n",
    "    return _data\n",
    "\n",
    "# PCI\n",
    "def get_dominant_colors(infile,num_col):\n",
    "    image = Image.open(infile)\n",
    "    image = cv2.cvtColor(np.asarray(image),cv2.COLOR_RGB2BGR)\n",
    "    image = cv2.cvtColor(image, cv2.COLOR_BGR2LAB)\n",
    "    image[:,:,0] = cv2.bilateralFilter(image[:,:,0],5,200,200)\n",
    "    image = cv2.cvtColor(image, cv2.COLOR_LAB2BGR)   \n",
    "    image = Image.fromarray(cv2.cvtColor(image,cv2.COLOR_BGR2RGB))\n",
    "    small_image = image.resize((480, 480))\n",
    "    result = small_image.convert(\"P\", palette=Image.ADAPTIVE, colors = num_col)  \n",
    "    palette = result.getpalette()\n",
    "    color_counts = sorted(result.getcolors(), reverse=True)\n",
    "    colors = []\n",
    "    for i in range(num_col):\n",
    "        palette_index = color_counts[i][1]\n",
    "        dominant_color = palette[palette_index * 3 : palette_index * 3 + 3]\n",
    "        colors.append(tuple(dominant_color))\n",
    "    return colors\n",
    "\n",
    "# HSI entropy\n",
    "def rgbtohsi_1(rgb_lwpImg):\n",
    "    rows = int(rgb_lwpImg.shape[0])\n",
    "    cols = int(rgb_lwpImg.shape[1])\n",
    "    b, g, r = cv2.split(rgb_lwpImg)\n",
    "    # scale to [0,1]\n",
    "    b = b / 255.0\n",
    "    g = g / 255.0\n",
    "    r = r / 255.0\n",
    "    S_img = np.zeros((rows, cols, 1), dtype=np.uint8)\n",
    "    hsi_lwpImg = rgb_lwpImg.copy()\n",
    "    H, S, I = cv2.split(hsi_lwpImg)\n",
    "    for i in range(rows):\n",
    "        for j in range(cols):\n",
    "            min_RGB = min(min(b[i, j], g[i, j]), r[i, j])\n",
    "            sum = b[i, j]+g[i, j]+r[i, j]\n",
    "            if sum == 0:\n",
    "                S = 0\n",
    "            else:\n",
    "                S = 1 - 3 * min_RGB/sum\n",
    "            S_img[i, j] = S * 255\n",
    "    return S_img\n",
    "\n",
    "# Color moments\n",
    "def color_comment(img):\n",
    "    r,g,b = cv2.split(img)\n",
    "    color_featrue = []\n",
    "    r_mean = np.mean(r)\n",
    "    g_mean = np.mean(g)\n",
    "    b_mean = np.mean(b)\n",
    "    r_std = np.std(r)\n",
    "    g_std = np.std(g)\n",
    "    b_std = np.std(b)\n",
    "    r_offset = (np.mean(np.abs((r - r_mean)**3)))**(1./3)\n",
    "    g_offset = (np.mean(np.abs((g - g_mean)**3)))**(1./3)\n",
    "    b_offset = (np.mean(np.abs((b - b_mean)**3)))**(1./3)\n",
    "    color_featrue.extend([r_mean,g_mean,b_mean,r_std,g_std,b_std,r_offset,g_offset,b_offset])\n",
    "    return color_featrue"
   ]
  },
  {
   "cell_type": "markdown",
   "metadata": {},
   "source": [
    "### Define input and output path"
   ]
  },
  {
   "cell_type": "code",
   "execution_count": 3,
   "metadata": {
    "ExecuteTime": {
     "end_time": "2022-06-15T02:42:41.938452Z",
     "start_time": "2022-06-15T02:42:41.931470Z"
    },
    "collapsed": true
   },
   "outputs": [],
   "source": [
    "num_ca = 5 # Modify the number according to the actual situation \n",
    "num_noca = 5 # Modify the number according to the actual situation \n",
    "\n",
    "ca_path = r\"~\\data\\imgs_feature_extraction_quantification\\except_for_width_height_ratio\\1\"\n",
    "noca_path = r\"~\\data\\imgs_feature_extraction_quantification\\except_for_width_height_ratio\\0\"\n",
    "\n",
    "ca_excel_path = \"file path for the sheet that stores the feature prediction results\"\n",
    "noca_excel_path = \"file path for the sheet that stores the feature prediction results\""
   ]
  },
  {
   "cell_type": "code",
   "execution_count": 4,
   "metadata": {
    "ExecuteTime": {
     "end_time": "2022-06-15T02:42:43.698914Z",
     "start_time": "2022-06-15T02:42:43.612185Z"
    },
    "collapsed": true
   },
   "outputs": [],
   "source": [
    "ca_result_list = []\n",
    "for img_file in os.listdir(ca_path):\n",
    "    ca_result_list.append(img_file)    \n",
    "to_excle(ca_result_list,ca_ecxle_path,0) \n",
    "\n",
    "noca_result_list = []\n",
    "for img_file in os.listdir(noca_path):\n",
    "    noca_result_list.append(img_file)    \n",
    "to_excle(noca_result_list,noca_ecxle_path,0) "
   ]
  },
  {
   "cell_type": "markdown",
   "metadata": {},
   "source": [
    "## PCI"
   ]
  },
  {
   "cell_type": "code",
   "execution_count": 1,
   "metadata": {
    "ExecuteTime": {
     "end_time": "2023-06-08T07:14:34.396842Z",
     "start_time": "2023-06-08T07:14:34.387866Z"
    },
    "collapsed": true
   },
   "outputs": [],
   "source": [
    "result_list = []\n",
    "for file in os.listdir(ca_path):\n",
    "    img_path = os.path.join(ca_path,file)\n",
    "    color = get_dominant_colors(img_path,5)\n",
    "    color_list = []\n",
    "    for i in color:\n",
    "        C_i = np.mean(i)\n",
    "        if C_i != 0:\n",
    "            color_list.append(C_i)\n",
    "    std_color = np.std(color_list)\n",
    "    std_color = std_color/100\n",
    "    result_list.append(std_color)\n",
    "to_excle(result_list,ca_ecxle_path,1) "
   ]
  },
  {
   "cell_type": "code",
   "execution_count": 2,
   "metadata": {
    "ExecuteTime": {
     "end_time": "2023-06-08T07:14:40.349610Z",
     "start_time": "2023-06-08T07:14:40.332656Z"
    },
    "collapsed": true
   },
   "outputs": [],
   "source": [
    "result_list = []\n",
    "for file in os.listdir(noca_path):\n",
    "    img_path = os.path.join(noca_path,file)\n",
    "    color = get_dominant_colors(img_path,5)\n",
    "    color_list = []\n",
    "    for i in color:\n",
    "        C_i = np.mean(i)\n",
    "        if C_i != 0:\n",
    "            color_list.append(C_i)\n",
    "    std_color = np.std(color_list)\n",
    "    std_color = std_color/100\n",
    "    print(std_color)\n",
    "    result_list.append(std_color)\n",
    "to_excle(result_list,noca_ecxle_path,1) "
   ]
  },
  {
   "cell_type": "code",
   "execution_count": 3,
   "metadata": {
    "ExecuteTime": {
     "end_time": "2023-06-08T07:14:47.872117Z",
     "start_time": "2023-06-08T07:14:47.860150Z"
    },
    "collapsed": true
   },
   "outputs": [],
   "source": [
    "# identify the best cut-off value for classfying images into 1 and 0 \n",
    "\n",
    "col_name = \"PCI\" \n",
    "ca_list = read_list_1(ca_ecxle_path,col_name)\n",
    "noca_list = read_list_1(noca_ecxle_path,col_name)\n",
    "for ps in range(0,10000,1):\n",
    "    score = ps/1000\n",
    "    count_ca_right = 0\n",
    "    count_noca_right = 0\n",
    "    for k_ca in ca_list:  \n",
    "        if k_ca >= score:\n",
    "            count_ca_right += 1\n",
    "    for k_noca in noca_list:\n",
    "        if k_noca < score:\n",
    "            count_noca_right += 1\n",
    "    tpr_ca = count_ca_right/num_ca\n",
    "    tnr_noca = count_noca_right/num_noca\n",
    "    if  tpr_ca > 0.5  and tnr_noca > 0.5:\n",
    "        print('cut-off value:',score)\n",
    "        print('sensitivity:',format(tpr_ca,'.4f'))\n",
    "        print('specificity:',format(tnr_noca,'.4f'))"
   ]
  },
  {
   "cell_type": "markdown",
   "metadata": {},
   "source": [
    "### HSI entropy"
   ]
  },
  {
   "cell_type": "code",
   "execution_count": 4,
   "metadata": {
    "ExecuteTime": {
     "end_time": "2023-06-08T07:15:11.330950Z",
     "start_time": "2023-06-08T07:15:11.315989Z"
    },
    "collapsed": true
   },
   "outputs": [],
   "source": [
    "result_list = []\n",
    "for file in os.listdir(ca_path):\n",
    "    img_path = os.path.join(ca_path,file)\n",
    "    _img = read_img_file(img_path)\n",
    "    image_HSI = rgbtohsi_1(_img)\n",
    "    image = image_HSI\n",
    "    va = entropy(image)\n",
    "    result_list.append(va)\n",
    "to_excle(result_list,ca_ecxle_path,2)"
   ]
  },
  {
   "cell_type": "code",
   "execution_count": 5,
   "metadata": {
    "ExecuteTime": {
     "end_time": "2023-06-08T07:15:16.483658Z",
     "start_time": "2023-06-08T07:15:16.475681Z"
    },
    "collapsed": true
   },
   "outputs": [],
   "source": [
    "result_list = []\n",
    "for file in os.listdir(noca_path):\n",
    "    img_path = os.path.join(noca_path,file)\n",
    "    _img = read_img_file(img_path)\n",
    "    image_HSI = rgbtohsi_1(_img)\n",
    "    image = image_HSI\n",
    "    va = entropy(image)\n",
    "    result_list.append(va)\n",
    "to_excle(result_list,noca_ecxle_path,2)"
   ]
  },
  {
   "cell_type": "code",
   "execution_count": 6,
   "metadata": {
    "ExecuteTime": {
     "end_time": "2023-06-08T07:15:21.080129Z",
     "start_time": "2023-06-08T07:15:21.070155Z"
    },
    "collapsed": true
   },
   "outputs": [],
   "source": [
    "col_name = \"HSI entroy\" \n",
    "ca_list = read_list_1(ca_ecxle_path,col_name)\n",
    "noca_list = read_list_1(noca_ecxle_path,col_name)\n",
    "for ps in range(0,10000,1):\n",
    "    score = ps/1000\n",
    "    count_ca_right = 0\n",
    "    count_noca_right = 0\n",
    "    for k_ca in ca_list:  \n",
    "        if k_ca >= score:\n",
    "            count_ca_right += 1\n",
    "    for k_noca in noca_list:\n",
    "        if k_noca < score:\n",
    "            count_noca_right += 1\n",
    "    tpr_ca = count_ca_right/num_ca\n",
    "    tnr_noca = count_noca_right/num_noca\n",
    "    if  tpr_ca > 0.55  and tnr_noca > 0.55:\n",
    "        print('cut-off value:',score)\n",
    "        print('sensitivity:',format(tpr_ca,'.4f'))\n",
    "        print('specificity:',format(tnr_noca,'.4f'))"
   ]
  },
  {
   "cell_type": "markdown",
   "metadata": {},
   "source": [
    "## Texture"
   ]
  },
  {
   "cell_type": "code",
   "execution_count": 7,
   "metadata": {
    "ExecuteTime": {
     "end_time": "2023-06-08T07:15:27.795970Z",
     "start_time": "2023-06-08T07:15:27.786995Z"
    },
    "collapsed": true
   },
   "outputs": [],
   "source": [
    "result_list = []\n",
    "for file in os.listdir(ca_path):\n",
    "    img_path = os.path.join(ca_path,file)\n",
    "    _img = read_img_file(img_path)\n",
    "    image = cv2.cvtColor(_img, cv2.COLOR_BGR2GRAY)\n",
    "    lbp = local_binary_pattern(image, 24, 3.5)\n",
    "    V_rout = list(np.concatenate(lbp))\n",
    "    va = np.mean(V_rout)/1000000 - 8\n",
    "    print(va)\n",
    "    result_list.append(va)\n",
    "to_excle(result_list,ca_ecxle_path,3) "
   ]
  },
  {
   "cell_type": "code",
   "execution_count": 8,
   "metadata": {
    "ExecuteTime": {
     "end_time": "2023-06-08T07:15:32.500723Z",
     "start_time": "2023-06-08T07:15:32.491747Z"
    },
    "collapsed": true
   },
   "outputs": [],
   "source": [
    "result_list = []\n",
    "for file in os.listdir(noca_path):\n",
    "    img_path = os.path.join(noca_path,file)\n",
    "    _img = read_img_file(img_path)\n",
    "    image = cv2.cvtColor(_img, cv2.COLOR_BGR2GRAY)\n",
    "    lbp = local_binary_pattern(image, 24, 3.5)\n",
    "    V_rout = list(np.concatenate(lbp))\n",
    "    va = np.mean(V_rout)/1000000 - 8\n",
    "    result_list.append(va)\n",
    "to_excle(result_list,noca_ecxle_path,3) "
   ]
  },
  {
   "cell_type": "code",
   "execution_count": 9,
   "metadata": {
    "ExecuteTime": {
     "end_time": "2023-06-08T07:15:39.444488Z",
     "start_time": "2023-06-08T07:15:39.428531Z"
    },
    "collapsed": true
   },
   "outputs": [],
   "source": [
    "col_name = \"Texture\" \n",
    "ca_list = read_list_1(ca_ecxle_path,col_name)\n",
    "noca_list = read_list_1(noca_ecxle_path,col_name)\n",
    "for ps in range(0,10000,1):\n",
    "    score = ps/1000\n",
    "    count_ca_right = 0\n",
    "    count_noca_right = 0\n",
    "    for k_ca in ca_list:  \n",
    "        if k_ca < score:\n",
    "            count_ca_right += 1\n",
    "    for k_noca in noca_list:\n",
    "        if k_noca > score:\n",
    "            count_noca_right += 1\n",
    "    tpr_ca = count_ca_right/num_ca\n",
    "    tnr_noca = count_noca_right/num_noca\n",
    "    if  tpr_ca > 0.5  and tnr_noca > 0.5:\n",
    "        print('cut-off value:',score)\n",
    "        print('sensitivity:',format(tpr_ca,'.4f'))\n",
    "        print('specificity:',format(tnr_noca,'.4f'))"
   ]
  },
  {
   "cell_type": "markdown",
   "metadata": {},
   "source": [
    "## Histogram"
   ]
  },
  {
   "cell_type": "code",
   "execution_count": 10,
   "metadata": {
    "ExecuteTime": {
     "end_time": "2023-06-08T07:15:46.994578Z",
     "start_time": "2023-06-08T07:15:46.988594Z"
    },
    "collapsed": true
   },
   "outputs": [],
   "source": [
    "result_list = []\n",
    "for file in os.listdir(ca_path):\n",
    "    img_path = os.path.join(ca_path,file)\n",
    "    _img = read_img_file(img_path)\n",
    "    image_HSV = cv2.cvtColor(_img, cv2.COLOR_BGR2XYZ)\n",
    "    image = image_HSV[:,:,0]\n",
    "    kernel = np.array([[0, -1, 0], [-1, 5, -1], [0, -1, 0]], np.float32) \n",
    "    dst = cv2.filter2D(image, -1, kernel=kernel) \n",
    "    features = ft.hog(dst, orientations = 9, pixels_per_cell = (20,20),cells_per_block = (2,2), \n",
    "                  block_norm = 'L1',transform_sqrt = True,feature_vector = True,visualize = False)\n",
    "    va = np.std(features)*100\n",
    "    result_list.append(va)\n",
    "to_excle(result_list,ca_ecxle_path,4) "
   ]
  },
  {
   "cell_type": "code",
   "execution_count": 11,
   "metadata": {
    "ExecuteTime": {
     "end_time": "2023-06-08T07:15:58.089541Z",
     "start_time": "2023-06-08T07:15:58.083558Z"
    },
    "collapsed": true
   },
   "outputs": [],
   "source": [
    "result_list = []\n",
    "for file in os.listdir(noca_path):\n",
    "    img_path = os.path.join(noca_path,file)\n",
    "    _img = read_img_file(img_path)\n",
    "    image_HSV = cv2.cvtColor(_img, cv2.COLOR_BGR2XYZ)\n",
    "    image = image_HSV[:,:,0]\n",
    "    kernel = np.array([[0, -1, 0], [-1, 5, -1], [0, -1, 0]], np.float32) \n",
    "    dst = cv2.filter2D(image, -1, kernel=kernel) \n",
    "    features = ft.hog(dst, orientations = 9, pixels_per_cell = (20,20),cells_per_block = (2,2), \n",
    "                  block_norm = 'L1',transform_sqrt = True,feature_vector = True,visualize = False)\n",
    "    va = np.std(features)*100\n",
    "    result_list.append(va)\n",
    "to_excle(result_list,noca_ecxle_path,4) "
   ]
  },
  {
   "cell_type": "code",
   "execution_count": 12,
   "metadata": {
    "ExecuteTime": {
     "end_time": "2023-06-08T07:16:04.990542Z",
     "start_time": "2023-06-08T07:16:04.972583Z"
    },
    "collapsed": true
   },
   "outputs": [],
   "source": [
    "col_name = \"Histogram\" \n",
    "ca_list = read_list_1(ca_ecxle_path,col_name)\n",
    "noca_list = read_list_1(noca_ecxle_path,col_name)\n",
    "for ps in range(0,10000,1):\n",
    "    score = ps/1000\n",
    "    count_ca_right = 0\n",
    "    count_noca_right = 0\n",
    "    for k_ca in ca_list:  \n",
    "        if k_ca < score:\n",
    "            count_ca_right += 1\n",
    "    for k_noca in noca_list:\n",
    "        if k_noca > score:\n",
    "            count_noca_right += 1\n",
    "    tpr_ca = count_ca_right/num_ca\n",
    "    tnr_noca = count_noca_right/num_noca\n",
    "    if  tpr_ca > 0.5  and tnr_noca > 0.5:\n",
    "        print('cut-off value:',score)\n",
    "        print('sensitivity:',format(tpr_ca,'.4f'))\n",
    "        print('specificity:',format(tnr_noca,'.4f'))"
   ]
  },
  {
   "cell_type": "markdown",
   "metadata": {},
   "source": [
    "## color_comment"
   ]
  },
  {
   "cell_type": "code",
   "execution_count": 13,
   "metadata": {
    "ExecuteTime": {
     "end_time": "2023-06-08T07:16:13.628306Z",
     "start_time": "2023-06-08T07:16:13.612322Z"
    },
    "collapsed": true
   },
   "outputs": [],
   "source": [
    "result_list = []\n",
    "for file in os.listdir(ca_path):\n",
    "    img_path = os.path.join(ca_path,file)\n",
    "    _img = read_img_file(img_path)\n",
    "    features  = color_comment(_img)\n",
    "    va = np.mean(features)/100\n",
    "    result_list.append(va)\n",
    "to_excle(result_list,ca_ecxle_path,5) "
   ]
  },
  {
   "cell_type": "code",
   "execution_count": 14,
   "metadata": {
    "ExecuteTime": {
     "end_time": "2023-06-08T07:16:18.604794Z",
     "start_time": "2023-06-08T07:16:18.587840Z"
    },
    "collapsed": true
   },
   "outputs": [],
   "source": [
    "result_list = []\n",
    "for file in os.listdir(noca_path):\n",
    "    img_path = os.path.join(noca_path,file)\n",
    "    _img = read_img_file(img_path)\n",
    "    features  = color_comment(_img)\n",
    "    va = np.mean(features)/100\n",
    "    result_list.append(va)\n",
    "to_excle(result_list,noca_ecxle_path,5) "
   ]
  },
  {
   "cell_type": "code",
   "execution_count": 15,
   "metadata": {
    "ExecuteTime": {
     "end_time": "2023-06-08T07:16:24.251581Z",
     "start_time": "2023-06-08T07:16:24.243602Z"
    },
    "collapsed": true
   },
   "outputs": [],
   "source": [
    "col_name = \"color_comment\" \n",
    "ca_list = read_list_1(ca_ecxle_path,col_name)\n",
    "noca_list = read_list_1(noca_ecxle_path,col_name)\n",
    "for ps in range(0,10000,1):\n",
    "    score = ps/1000\n",
    "    count_ca_right = 0\n",
    "    count_noca_right = 0\n",
    "    for k_ca in ca_list:  \n",
    "        if k_ca < score:\n",
    "            count_ca_right += 1\n",
    "    for k_noca in noca_list:\n",
    "        if k_noca > score:\n",
    "            count_noca_right += 1\n",
    "    tpr_ca = count_ca_right/num_ca\n",
    "    tnr_noca = count_noca_right/num_noca\n",
    "    if  tpr_ca > 0.5  and tnr_noca > 0.5:\n",
    "        print('cut-off value:',score)\n",
    "        print('sensitivity:',format(tpr_ca,'.4f'))\n",
    "        print('specificity:',format(tnr_noca,'.4f'))"
   ]
  },
  {
   "cell_type": "markdown",
   "metadata": {},
   "source": [
    "### Save the output"
   ]
  },
  {
   "cell_type": "code",
   "execution_count": 4,
   "metadata": {
    "ExecuteTime": {
     "end_time": "2022-06-15T07:01:09.168692Z",
     "start_time": "2022-06-15T07:01:09.088918Z"
    },
    "collapsed": true
   },
   "outputs": [],
   "source": [
    "ca_result_list = []\n",
    "for img_file in os.listdir(ca_path):\n",
    "    ca_result_list.append(img_file)    \n",
    "to_excel(ca_result_list,ca_excel_path,0) "
   ]
  },
  {
   "cell_type": "code",
   "execution_count": 5,
   "metadata": {
    "ExecuteTime": {
     "end_time": "2022-06-15T07:06:34.508007Z",
     "start_time": "2022-06-15T07:01:58.047958Z"
    },
    "collapsed": true
   },
   "outputs": [],
   "source": [
    "result_list = []\n",
    "derta = N\n",
    "for file in os.listdir(ca_path):\n",
    "    img_path = os.path.join(ca_path,file)\n",
    "    color = get_dominant_colors(img_path,5)\n",
    "    color_list = []\n",
    "    for i in color:\n",
    "        C_i = np.mean(i)\n",
    "        if C_i != 0:\n",
    "            color_list.append(C_i)\n",
    "    std_color = sts.std(color_list)\n",
    "    std_color = std_color/100\n",
    "    if std_color >= derta:\n",
    "        result_list.append(1)\n",
    "    else:\n",
    "        result_list.append(0)\n",
    "to_excel(result_list,ca_excel_path,1)"
   ]
  },
  {
   "cell_type": "code",
   "execution_count": 6,
   "metadata": {
    "ExecuteTime": {
     "end_time": "2022-06-15T07:41:06.644787Z",
     "start_time": "2022-06-15T07:06:34.509004Z"
    }
   },
   "outputs": [
    {
     "name": "stderr",
     "output_type": "stream",
     "text": [
      "C:\\ProgramData\\Anaconda3\\envs\\tf\\lib\\site-packages\\ipykernel_launcher.py:4: DeprecationWarning: The binary mode of fromstring is deprecated, as it behaves surprisingly on unicode inputs. Use frombuffer instead\n",
      "  after removing the cwd from sys.path.\n"
     ]
    }
   ],
   "source": [
    "result_list = []\n",
    "derta = N\n",
    "for file in os.listdir(ca_path):\n",
    "    img_path = os.path.join(ca_path,file)\n",
    "    _img = read_img_file(img_path)\n",
    "    image_HSI = rgbtohsi_1(_img)\n",
    "    image = image_HSI\n",
    "    va = entropy(image)\n",
    "    if va >= derta:\n",
    "        result_list.append(1)\n",
    "    else:\n",
    "        result_list.append(0)\n",
    "to_excel(result_list,ca_excel_path,2)"
   ]
  },
  {
   "cell_type": "code",
   "execution_count": 7,
   "metadata": {
    "ExecuteTime": {
     "end_time": "2022-06-15T07:51:09.904774Z",
     "start_time": "2022-06-15T07:41:06.645784Z"
    }
   },
   "outputs": [
    {
     "name": "stderr",
     "output_type": "stream",
     "text": [
      "C:\\ProgramData\\Anaconda3\\envs\\tf\\lib\\site-packages\\ipykernel_launcher.py:4: DeprecationWarning: The binary mode of fromstring is deprecated, as it behaves surprisingly on unicode inputs. Use frombuffer instead\n",
      "  after removing the cwd from sys.path.\n"
     ]
    }
   ],
   "source": [
    "result_list = []\n",
    "derta = N\n",
    "for file in os.listdir(ca_path):\n",
    "    img_path = os.path.join(ca_path,file)\n",
    "    _img = read_img_file(img_path)\n",
    "    image = cv2.cvtColor(_img, cv2.COLOR_BGR2GRAY)\n",
    "    lbp = local_binary_pattern(image, 24, 3.5)\n",
    "    V_rout = list(np.concatenate(lbp))\n",
    "    va = np.mean(V_rout)/1000000 - 8\n",
    "    if va <= derta:\n",
    "        result_list.append(1)\n",
    "    else:\n",
    "        result_list.append(0)\n",
    "to_excel(result_list,ca_excel_path,3) "
   ]
  },
  {
   "cell_type": "code",
   "execution_count": 8,
   "metadata": {
    "ExecuteTime": {
     "end_time": "2022-06-15T07:53:41.333590Z",
     "start_time": "2022-06-15T07:51:09.905741Z"
    }
   },
   "outputs": [
    {
     "name": "stderr",
     "output_type": "stream",
     "text": [
      "C:\\ProgramData\\Anaconda3\\envs\\tf\\lib\\site-packages\\ipykernel_launcher.py:4: DeprecationWarning: The binary mode of fromstring is deprecated, as it behaves surprisingly on unicode inputs. Use frombuffer instead\n",
      "  after removing the cwd from sys.path.\n"
     ]
    }
   ],
   "source": [
    "result_list = []\n",
    "derta = N\n",
    "for file in os.listdir(ca_path):\n",
    "    img_path = os.path.join(ca_path,file)\n",
    "    _img = read_img_file(img_path)\n",
    "    image_HSV = cv2.cvtColor(_img, cv2.COLOR_BGR2XYZ)\n",
    "    image = image_HSV[:,:,0]\n",
    "    kernel = np.array([[0, -1, 0], [-1, 5, -1], [0, -1, 0]], np.float32) \n",
    "    dst = cv2.filter2D(image, -1, kernel=kernel) \n",
    "    features = ft.hog(dst, orientations = 9, pixels_per_cell = (20,20),cells_per_block = (2,2), \n",
    "                  block_norm = 'L1',transform_sqrt = True,feature_vector = True,visualize = False)\n",
    "    va = np.std(features)*100\n",
    "    if va <= derta:\n",
    "        result_list.append(1)\n",
    "    else:\n",
    "        result_list.append(0)\n",
    "to_excel(result_list,ca_excel_path,4) "
   ]
  },
  {
   "cell_type": "code",
   "execution_count": 9,
   "metadata": {
    "ExecuteTime": {
     "end_time": "2022-06-15T07:55:51.074464Z",
     "start_time": "2022-06-15T07:53:41.334589Z"
    }
   },
   "outputs": [
    {
     "name": "stderr",
     "output_type": "stream",
     "text": [
      "C:\\ProgramData\\Anaconda3\\envs\\tf\\lib\\site-packages\\ipykernel_launcher.py:4: DeprecationWarning: The binary mode of fromstring is deprecated, as it behaves surprisingly on unicode inputs. Use frombuffer instead\n",
      "  after removing the cwd from sys.path.\n"
     ]
    }
   ],
   "source": [
    "result_list = []\n",
    "derta = N\n",
    "for file in os.listdir(ca_path):\n",
    "    img_path = os.path.join(ca_path,file)\n",
    "    _img = read_img_file(img_path)\n",
    "    features  = color_comment(_img)\n",
    "    va = np.mean(features)/100\n",
    "    if va <= derta:\n",
    "        result_list.append(1)\n",
    "    else:\n",
    "        result_list.append(0)\n",
    "to_excel(result_list,ca_excel_path,5) "
   ]
  }
 ],
 "metadata": {
  "kernelspec": {
   "display_name": "Python 3 (ipykernel)",
   "language": "python",
   "name": "python3"
  },
  "language_info": {
   "codemirror_mode": {
    "name": "ipython",
    "version": 3
   },
   "file_extension": ".py",
   "mimetype": "text/x-python",
   "name": "python",
   "nbconvert_exporter": "python",
   "pygments_lexer": "ipython3",
   "version": "3.9.13"
  },
  "toc": {
   "base_numbering": 1,
   "nav_menu": {
    "height": "45px",
    "width": "282px"
   },
   "number_sections": true,
   "sideBar": true,
   "skip_h1_title": false,
   "title_cell": "Table of Contents",
   "title_sidebar": "Contents",
   "toc_cell": false,
   "toc_position": {},
   "toc_section_display": true,
   "toc_window_display": false
  }
 },
 "nbformat": 4,
 "nbformat_minor": 2
}
